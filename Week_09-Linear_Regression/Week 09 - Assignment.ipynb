{
 "cells": [
  {
   "cell_type": "markdown",
   "id": "aae2b7c1",
   "metadata": {},
   "source": [
    "# Week 09 - Assignment"
   ]
  },
  {
   "cell_type": "code",
   "execution_count": 63,
   "id": "d0b88449",
   "metadata": {},
   "outputs": [],
   "source": [
    "# import the Income.csv dataset as a dataframe using columns Education, Seniority, and Income and print the head\n",
    "# https://raw.githubusercontent.com/gitmystuff/INFO4050/main/Datasets/Income.csv"
   ]
  },
  {
   "cell_type": "code",
   "execution_count": 64,
   "id": "df9aecba",
   "metadata": {},
   "outputs": [],
   "source": [
    "# print the dataset's info"
   ]
  },
  {
   "cell_type": "code",
   "execution_count": 65,
   "id": "5ee1e545",
   "metadata": {},
   "outputs": [],
   "source": [
    "# train test split the dataframe using income as the dependent variable"
   ]
  },
  {
   "cell_type": "code",
   "execution_count": 66,
   "id": "e5133d78",
   "metadata": {},
   "outputs": [],
   "source": [
    "# describe X_train"
   ]
  },
  {
   "cell_type": "code",
   "execution_count": 67,
   "id": "92a2690e",
   "metadata": {},
   "outputs": [],
   "source": [
    "# plot histograms of the X_train"
   ]
  },
  {
   "cell_type": "code",
   "execution_count": 68,
   "id": "575cee44",
   "metadata": {},
   "outputs": [],
   "source": [
    "# create a pairplot of X_train"
   ]
  },
  {
   "cell_type": "code",
   "execution_count": 69,
   "id": "a3b37875",
   "metadata": {},
   "outputs": [],
   "source": [
    "# use sklearn's linear regression to create a model, train it, and make predictions with X_test"
   ]
  },
  {
   "cell_type": "code",
   "execution_count": 70,
   "id": "3180d261",
   "metadata": {},
   "outputs": [],
   "source": [
    "# print MSE and R-squared"
   ]
  },
  {
   "cell_type": "code",
   "execution_count": 71,
   "id": "6134c567",
   "metadata": {},
   "outputs": [],
   "source": [
    "# using statsmodel, create an OLS model and print the model's summary"
   ]
  }
 ],
 "metadata": {
  "kernelspec": {
   "display_name": "Python 3 (ipykernel)",
   "language": "python",
   "name": "python3"
  },
  "language_info": {
   "codemirror_mode": {
    "name": "ipython",
    "version": 3
   },
   "file_extension": ".py",
   "mimetype": "text/x-python",
   "name": "python",
   "nbconvert_exporter": "python",
   "pygments_lexer": "ipython3",
   "version": "3.9.7"
  }
 },
 "nbformat": 4,
 "nbformat_minor": 5
}
